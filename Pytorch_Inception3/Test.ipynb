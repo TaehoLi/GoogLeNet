{
 "cells": [
  {
   "cell_type": "code",
   "execution_count": 1,
   "metadata": {},
   "outputs": [],
   "source": [
    "# Params\n",
    "input_size = (299,299)\n",
    "batch_size = 100\n",
    "num_workers = 8\n",
    "num_classes = 2"
   ]
  },
  {
   "cell_type": "code",
   "execution_count": 2,
   "metadata": {},
   "outputs": [
    {
     "name": "stdout",
     "output_type": "stream",
     "text": [
      "torch-version: 1.1.0\n",
      "Available GPU: 0\n"
     ]
    }
   ],
   "source": [
    "import torch\n",
    "\n",
    "print(\"torch-version:\", torch.__version__)\n",
    "print(\"Available GPU:\", torch.cuda.current_device())"
   ]
  },
  {
   "cell_type": "code",
   "execution_count": 3,
   "metadata": {},
   "outputs": [],
   "source": [
    "from load_MH import *\n",
    "\n",
    "# 기존 데이터 경로\n",
    "NORMAL_DIR = '../../snapshots_pureok'\n",
    "FAULT_DIR = '../../snapshots'\n",
    "# 추가 데이터 경로\n",
    "ADD_NORMAL_DIR = '../../snapshots_punch181'\n",
    "ADD_FAULT_DIR = '../../snapshots_punch181_NG'\n",
    "\n",
    "train_mhdb = dataset(NORMAL_DIR, FAULT_DIR, ADD_NORMAL_DIR, ADD_FAULT_DIR, input_size, batch_size, num_workers)[:4]\n",
    "val_mhdb = dataset(NORMAL_DIR, FAULT_DIR, ADD_NORMAL_DIR, ADD_FAULT_DIR, input_size, batch_size, num_workers)[4:8]\n",
    "test_mhdb = dataset(NORMAL_DIR, FAULT_DIR, ADD_NORMAL_DIR, ADD_FAULT_DIR, input_size, batch_size, num_workers)[8:]"
   ]
  },
  {
   "cell_type": "code",
   "execution_count": 4,
   "metadata": {},
   "outputs": [
    {
     "name": "stdout",
     "output_type": "stream",
     "text": [
      "Accuracy of the network on the test images: 89 %\n"
     ]
    }
   ],
   "source": [
    "import torchvision\n",
    "\n",
    "correct = 0\n",
    "total = 0\n",
    "\n",
    "CAM1 = \"./saved_models/_CAM1-Epoch-88-Loss-1.978811.pth\"\n",
    "CAM2 = None\n",
    "CAM3 = None\n",
    "CAM4 = None\n",
    "\n",
    "if CAM1:\n",
    "    test_mhdb_batch = test_mhdb[0]\n",
    "    CAM = CAM1\n",
    "elif CAM2:\n",
    "    test_mhdb_batch = test_mhdb[1]\n",
    "    CAM = CAM2\n",
    "elif CAM3:\n",
    "    test_mhdb_batch = test_mhdb[2]\n",
    "    CAM = CAM3\n",
    "elif CAM4:\n",
    "    test_mhdb_batch = test_mhdb[3]\n",
    "    CAM = CAM4\n",
    "    \n",
    "net = torchvision.models.inception_v3(pretrained=False, aux_logits=True, num_classes=num_classes).cuda()\n",
    "net.load_state_dict(torch.load(CAM))\n",
    "\n",
    "with torch.no_grad():\n",
    "    net.eval()\n",
    "    for data in test_mhdb_batch:\n",
    "        images, labels = data\n",
    "        images = images.cuda()\n",
    "        labels = labels.cuda().long()\n",
    "        \n",
    "        outputs = net(images)\n",
    "                \n",
    "        _, predicted = torch.max(outputs, dim=1)\n",
    "        \n",
    "        total += labels.size(0)\n",
    "        correct += predicted.eq(labels).sum().item()\n",
    "\n",
    "print('Accuracy of the network on the test images: %d %%' %(100 * correct / total)) #more than 50 percent"
   ]
  }
 ],
 "metadata": {
  "kernelspec": {
   "display_name": "Python 3",
   "language": "python",
   "name": "python3"
  },
  "language_info": {
   "codemirror_mode": {
    "name": "ipython",
    "version": 3
   },
   "file_extension": ".py",
   "mimetype": "text/x-python",
   "name": "python",
   "nbconvert_exporter": "python",
   "pygments_lexer": "ipython3",
   "version": "3.6.8"
  }
 },
 "nbformat": 4,
 "nbformat_minor": 2
}
