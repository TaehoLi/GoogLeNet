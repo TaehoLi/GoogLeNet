{
 "cells": [
  {
   "cell_type": "code",
   "execution_count": 1,
   "metadata": {},
   "outputs": [],
   "source": [
    "# Params\n",
    "input_size = (100,100)\n",
    "batch_size = 512\n",
    "num_workers = 10\n",
    "learning_rate = 1e-03\n",
    "SGD_momentum = 0.9\n",
    "epochs = 10"
   ]
  },
  {
   "cell_type": "code",
   "execution_count": 2,
   "metadata": {},
   "outputs": [
    {
     "name": "stdout",
     "output_type": "stream",
     "text": [
      "torch-version: 1.1.0\n",
      "Available GPU: 0\n"
     ]
    }
   ],
   "source": [
    "import torch\n",
    "\n",
    "print(\"torch-version:\", torch.__version__)\n",
    "print(\"Available GPU:\", torch.cuda.current_device())"
   ]
  },
  {
   "cell_type": "markdown",
   "metadata": {},
   "source": [
    "## CIFAR 10"
   ]
  },
  {
   "cell_type": "code",
   "execution_count": 3,
   "metadata": {},
   "outputs": [
    {
     "name": "stdout",
     "output_type": "stream",
     "text": [
      "Files already downloaded and verified\n",
      "Files already downloaded and verified\n",
      "\n",
      "torch.Size([3, 100, 100]) 50000\n",
      "torch.Size([3, 100, 100]) 10000\n"
     ]
    }
   ],
   "source": [
    "import torchvision\n",
    "import torchvision.transforms as transforms\n",
    "\n",
    "transform = transforms.Compose(\n",
    "    [transforms.Resize(input_size), # Must be ahead of transforms.ToTensor()\n",
    "     transforms.ToTensor(),\n",
    "     transforms.Normalize((0.5, 0.5, 0.5), (0.5, 0.5, 0.5))])\n",
    "\n",
    "trainset = torchvision.datasets.CIFAR10(root='./data', train=True, download=True, transform=transform)\n",
    "trainloader = torch.utils.data.DataLoader(trainset, batch_size=batch_size, shuffle=True, num_workers=num_workers, drop_last=True)\n",
    "\n",
    "testset = torchvision.datasets.CIFAR10(root='./data', train=False, download=True, transform=transform)\n",
    "testloader = torch.utils.data.DataLoader(testset, batch_size=batch_size, shuffle=False, num_workers=num_workers, drop_last=True)\n",
    "\n",
    "classes = ('plane', 'car', 'bird', 'cat', 'deer', 'dog', 'frog', 'horse', 'ship', 'truck')\n",
    "\n",
    "print()\n",
    "print(trainset.__getitem__(0)[0].size(), trainset.__len__())\n",
    "print(testset.__getitem__(0)[0].size(), testset.__len__())"
   ]
  },
  {
   "cell_type": "markdown",
   "metadata": {},
   "source": [
    "## Model"
   ]
  },
  {
   "cell_type": "code",
   "execution_count": 4,
   "metadata": {},
   "outputs": [],
   "source": [
    "from googlenet_pytorch import *\n",
    "    \n",
    "net = googlenet(pretrained=False, progress=True, num_classes=10, aux_logits=True, transform_input=False, init_weights=True).cuda()\n",
    "\n",
    "#for i in net.named_children():\n",
    "#    print(i)"
   ]
  },
  {
   "cell_type": "code",
   "execution_count": 5,
   "metadata": {},
   "outputs": [],
   "source": [
    "from torch.optim.lr_scheduler import StepLR\n",
    "\n",
    "#criterion = torch.nn.BCEWithLogitsLoss()\n",
    "criterion = torch.nn.CrossEntropyLoss()\n",
    "#criterion = torch.nn.BCELoss(reduction='sum')\n",
    "#optimizer = torch.optim.SGD(net.parameters(), lr=learning_rate, momentum=SGD_momentum)\n",
    "optimizer = torch.optim.Adam(net.parameters(), lr=learning_rate)\n",
    "scheduler = StepLR(optimizer, step_size=8, gamma=0.96)"
   ]
  },
  {
   "cell_type": "markdown",
   "metadata": {},
   "source": [
    "## Train"
   ]
  },
  {
   "cell_type": "code",
   "execution_count": 6,
   "metadata": {},
   "outputs": [
    {
     "name": "stdout",
     "output_type": "stream",
     "text": [
      "[0] loss: 242.538\n",
      "[1] loss: 168.193\n",
      "[2] loss: 130.427\n",
      "[3] loss: 107.401\n",
      "[4] loss: 89.477\n",
      "[5] loss: 74.862\n",
      "[6] loss: 62.852\n",
      "[7] loss: 53.657\n",
      "[8] loss: 46.649\n",
      "[9] loss: 38.669\n",
      "\n",
      "Finished Training\n"
     ]
    }
   ],
   "source": [
    "times = 1\n",
    "aux_loss_weight = 0.3\n",
    "\n",
    "for epoch in range(epochs):  # loop over the dataset multiple times\n",
    "    net.train()\n",
    "    running_loss = 0.0\n",
    "    for i, data in enumerate(trainloader):\n",
    "        # get the inputs\n",
    "        inputs, labels = data\n",
    "        inputs = inputs.cuda()\n",
    "        labels = labels.cuda()\n",
    "        \n",
    "        # zero the parameter gradients\n",
    "        optimizer.zero_grad()\n",
    "\n",
    "        # forward + backward + optimize\n",
    "        outputs, aux_2, aux_1 = net(inputs) #tuple: (input, aux2, aux1)\n",
    "        \n",
    "        loss1 = criterion(outputs, labels)\n",
    "        loss2 = criterion(aux_2, labels)\n",
    "        loss3 = criterion(aux_1, labels)\n",
    "        \n",
    "        loss = loss1 + aux_loss_weight*loss2 + aux_loss_weight*loss3\n",
    "        loss.backward()\n",
    "        ##scheduler.step() #학습이 안됨.\n",
    "        optimizer.step()\n",
    "        \n",
    "        running_loss += loss.item()\n",
    "        \n",
    "    if epoch % times == 0:\n",
    "        print('[%d] loss: %.3f' %(epoch, running_loss / times))\n",
    "        running_loss = 0.0\n",
    "        #torch.save(model,'./data/cifar_model.pkl')\n",
    "\n",
    "print('\\nFinished Training')"
   ]
  },
  {
   "cell_type": "markdown",
   "metadata": {},
   "source": [
    "## Test"
   ]
  },
  {
   "cell_type": "code",
   "execution_count": 7,
   "metadata": {},
   "outputs": [
    {
     "name": "stdout",
     "output_type": "stream",
     "text": [
      "Accuracy of the network on the 10000 test images: 79 %\n"
     ]
    }
   ],
   "source": [
    "correct = 0\n",
    "total = 0\n",
    "net.eval()\n",
    "\n",
    "with torch.no_grad():\n",
    "    for data in testloader:\n",
    "        images, labels = data\n",
    "        images = images.cuda() #.cpu()\n",
    "        labels = labels.cuda() #.cpu()\n",
    "        \n",
    "        outputs = net(images)\n",
    "        \n",
    "        _, predicted = torch.max(outputs, dim=1)\n",
    "        #_, predicted = outputs.max(1)\n",
    "        \n",
    "        total += labels.size(0)\n",
    "        correct += predicted.eq(labels).sum().item()\n",
    "\n",
    "print('Accuracy of the network on the 10000 test images: %d %%' %(100 * correct / total))"
   ]
  },
  {
   "cell_type": "code",
   "execution_count": null,
   "metadata": {},
   "outputs": [],
   "source": []
  }
 ],
 "metadata": {
  "kernelspec": {
   "display_name": "Python 3",
   "language": "python",
   "name": "python3"
  },
  "language_info": {
   "codemirror_mode": {
    "name": "ipython",
    "version": 3
   },
   "file_extension": ".py",
   "mimetype": "text/x-python",
   "name": "python",
   "nbconvert_exporter": "python",
   "pygments_lexer": "ipython3",
   "version": "3.6.8"
  }
 },
 "nbformat": 4,
 "nbformat_minor": 2
}
