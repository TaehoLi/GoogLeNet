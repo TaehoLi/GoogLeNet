{
 "cells": [
  {
   "cell_type": "code",
   "execution_count": 1,
   "metadata": {},
   "outputs": [],
   "source": [
    "# Params\n",
    "input_size = (300,300)\n",
    "batch_size = 80\n",
    "num_workers = 10\n",
    "num_classes = 2\n",
    "learning_rate = 1e-03\n",
    "SGD_momentum = 0.9\n",
    "epochs = 10"
   ]
  },
  {
   "cell_type": "markdown",
   "metadata": {},
   "source": [
    "# Training an image classifier"
   ]
  },
  {
   "cell_type": "code",
   "execution_count": 2,
   "metadata": {},
   "outputs": [
    {
     "name": "stdout",
     "output_type": "stream",
     "text": [
      "torch-version: 1.1.0\n",
      "Available GPU: 0\n"
     ]
    }
   ],
   "source": [
    "import torch\n",
    "\n",
    "print(\"torch-version:\", torch.__version__)\n",
    "print(\"Available GPU:\", torch.cuda.current_device())"
   ]
  },
  {
   "cell_type": "markdown",
   "metadata": {},
   "source": [
    "## 1. Loading and normalizing MH dataset"
   ]
  },
  {
   "cell_type": "code",
   "execution_count": 3,
   "metadata": {},
   "outputs": [],
   "source": [
    "from dataset_MH import *\n",
    "\n",
    "# 기존 데이터 경로\n",
    "NORMAL_DIR = '../snapshots_pureok'\n",
    "FAULT_DIR = '../snapshots'\n",
    "\n",
    "# 추가 데이터 경로\n",
    "ADD_NORMAL_DIR = '../snapshots_punch181'\n",
    "ADD_FAULT_DIR = '../snapshots_punch181_NG'\n",
    "\n",
    "# 카메라 번호 (1~4까지 있음, 카메라별로 각각 다 따로 학습해야됩니다.) CAM1 / CAM2 / CAM3 / CAM4\n",
    "cam1 = 'CAM1'\n",
    "cam2 = 'CAM2'\n",
    "cam3 = 'CAM3'\n",
    "cam4 = 'CAM4'"
   ]
  },
  {
   "cell_type": "code",
   "execution_count": 4,
   "metadata": {},
   "outputs": [
    {
     "name": "stdout",
     "output_type": "stream",
     "text": [
      "Train size: torch.Size([3, 300, 300]) 2545\n",
      "Val size: torch.Size([3, 300, 300]) 424\n",
      "Test size: torch.Size([3, 300, 300]) 1273\n"
     ]
    }
   ],
   "source": [
    "# 기존 데이터 로드\n",
    "normal_list1 = filename_list(NORMAL_DIR, cam=cam1)\n",
    "fault_list1 = filename_list(FAULT_DIR, cam=cam1)\n",
    "normal_list2 = filename_list(NORMAL_DIR, cam=cam2)\n",
    "fault_list2 = filename_list(FAULT_DIR, cam=cam2)\n",
    "normal_list3 = filename_list(NORMAL_DIR, cam=cam3)\n",
    "fault_list3 = filename_list(FAULT_DIR, cam=cam3)\n",
    "normal_list4 = filename_list(NORMAL_DIR, cam=cam4)\n",
    "fault_list4 = filename_list(FAULT_DIR, cam=cam4)\n",
    "\n",
    "mhdb1 = MyungHwa_ansan_db(normal_list1, fault_list1, dataType='train', input_size=input_size, augmentation=True)\n",
    "mhdb2 = MyungHwa_ansan_db(normal_list2, fault_list2, dataType='train', input_size=input_size, augmentation=True)\n",
    "mhdb3 = MyungHwa_ansan_db(normal_list3, fault_list3, dataType='train', input_size=input_size, augmentation=True)\n",
    "mhdb4 = MyungHwa_ansan_db(normal_list4, fault_list4, dataType='train', input_size=input_size, augmentation=True)\n",
    "\n",
    "mhdb5 = MyungHwa_ansan_db(normal_list1, fault_list1, dataType='val', input_size=input_size, augmentation=True)\n",
    "mhdb6 = MyungHwa_ansan_db(normal_list2, fault_list2, dataType='val', input_size=input_size, augmentation=True)\n",
    "mhdb7 = MyungHwa_ansan_db(normal_list3, fault_list3, dataType='val', input_size=input_size, augmentation=True)\n",
    "mhdb8 = MyungHwa_ansan_db(normal_list4, fault_list4, dataType='val', input_size=input_size, augmentation=True)\n",
    "\n",
    "mhdb9 = MyungHwa_ansan_db(normal_list1, fault_list1, dataType='test', input_size=input_size, augmentation=True)\n",
    "mhdb10 = MyungHwa_ansan_db(normal_list2, fault_list2, dataType='test', input_size=input_size, augmentation=True)\n",
    "mhdb11 = MyungHwa_ansan_db(normal_list3, fault_list3, dataType='test', input_size=input_size, augmentation=True)\n",
    "mhdb12 = MyungHwa_ansan_db(normal_list4, fault_list4, dataType='test', input_size=input_size, augmentation=True)\n",
    "   \n",
    "# 추가 데이터 로드\n",
    "add_normal_list1 = filename_list(ADD_NORMAL_DIR, cam=cam1)\n",
    "add_fault_list1 = filename_list(ADD_FAULT_DIR, cam=cam1)\n",
    "add_normal_list2 = filename_list(ADD_NORMAL_DIR, cam=cam2)\n",
    "add_fault_list2 = filename_list(ADD_FAULT_DIR, cam=cam2)\n",
    "add_normal_list3 = filename_list(ADD_NORMAL_DIR, cam=cam3)\n",
    "add_fault_list3 = filename_list(ADD_FAULT_DIR, cam=cam3)\n",
    "add_normal_list4 = filename_list(ADD_NORMAL_DIR, cam=cam4)\n",
    "add_fault_list4 = filename_list(ADD_FAULT_DIR, cam=cam4)\n",
    "\n",
    "add_mhdb1 = MyungHwa_ansan_db(add_normal_list1, add_fault_list1, dataType='train', input_size=input_size, augmentation=True)\n",
    "add_mhdb2 = MyungHwa_ansan_db(add_normal_list2, add_fault_list2, dataType='train', input_size=input_size, augmentation=True)\n",
    "add_mhdb3 = MyungHwa_ansan_db(add_normal_list3, add_fault_list3, dataType='train', input_size=input_size, augmentation=True)\n",
    "add_mhdb4 = MyungHwa_ansan_db(add_normal_list4, add_fault_list4, dataType='train', input_size=input_size, augmentation=True)\n",
    "\n",
    "add_mhdb5 = MyungHwa_ansan_db(add_normal_list1, add_fault_list1, dataType='val', input_size=input_size, augmentation=True)\n",
    "add_mhdb6 = MyungHwa_ansan_db(add_normal_list2, add_fault_list2, dataType='val', input_size=input_size, augmentation=True)\n",
    "add_mhdb7 = MyungHwa_ansan_db(add_normal_list3, add_fault_list3, dataType='val', input_size=input_size, augmentation=True)\n",
    "add_mhdb8 = MyungHwa_ansan_db(add_normal_list4, add_fault_list4, dataType='val', input_size=input_size, augmentation=True)\n",
    "\n",
    "add_mhdb9 = MyungHwa_ansan_db(add_normal_list1, add_fault_list1, dataType='test', input_size=input_size, augmentation=True)\n",
    "add_mhdb10 = MyungHwa_ansan_db(add_normal_list2, add_fault_list2, dataType='test', input_size=input_size, augmentation=True)\n",
    "add_mhdb11 = MyungHwa_ansan_db(add_normal_list3, add_fault_list3, dataType='test', input_size=input_size, augmentation=True)\n",
    "add_mhdb12 = MyungHwa_ansan_db(add_normal_list4, add_fault_list4, dataType='test', input_size=input_size, augmentation=True)\n",
    "    \n",
    "# 데이터셋 합치기\n",
    "concat_mhdb1 = torch.utils.data.ConcatDataset([mhdb1, add_mhdb1])\n",
    "concat_mhdb2 = torch.utils.data.ConcatDataset([mhdb2, add_mhdb2])\n",
    "concat_mhdb3 = torch.utils.data.ConcatDataset([mhdb3, add_mhdb3])\n",
    "concat_mhdb4 = torch.utils.data.ConcatDataset([mhdb4, add_mhdb4])\n",
    "\n",
    "concat_mhdb5 = torch.utils.data.ConcatDataset([mhdb5, add_mhdb5])\n",
    "concat_mhdb6 = torch.utils.data.ConcatDataset([mhdb6, add_mhdb6])\n",
    "concat_mhdb7 = torch.utils.data.ConcatDataset([mhdb7, add_mhdb7])\n",
    "concat_mhdb8 = torch.utils.data.ConcatDataset([mhdb8, add_mhdb8])\n",
    "\n",
    "concat_mhdb9 = torch.utils.data.ConcatDataset([mhdb9, add_mhdb9])\n",
    "concat_mhdb10 = torch.utils.data.ConcatDataset([mhdb10, add_mhdb10])\n",
    "concat_mhdb11 = torch.utils.data.ConcatDataset([mhdb11, add_mhdb11])\n",
    "concat_mhdb12 = torch.utils.data.ConcatDataset([mhdb12, add_mhdb12])\n",
    "\n",
    "\n",
    "print(\"Train size:\", concat_mhdb1.__getitem__(0)[0].size(), concat_mhdb1.__len__())\n",
    "print(\"Val size:\", concat_mhdb5.__getitem__(0)[0].size(), concat_mhdb5.__len__())\n",
    "print(\"Test size:\", concat_mhdb9.__getitem__(0)[0].size(), concat_mhdb9.__len__())"
   ]
  },
  {
   "cell_type": "code",
   "execution_count": 5,
   "metadata": {},
   "outputs": [],
   "source": [
    "mhdb_batch1 = torch.utils.data.DataLoader(concat_mhdb1, batch_size=batch_size, shuffle=True, num_workers=num_workers, drop_last=True)\n",
    "mhdb_batch2 = torch.utils.data.DataLoader(concat_mhdb2, batch_size=batch_size, shuffle=True, num_workers=num_workers, drop_last=True)\n",
    "mhdb_batch3 = torch.utils.data.DataLoader(concat_mhdb3, batch_size=batch_size, shuffle=True, num_workers=num_workers, drop_last=True)\n",
    "mhdb_batch4 = torch.utils.data.DataLoader(concat_mhdb4, batch_size=batch_size, shuffle=True, num_workers=num_workers, drop_last=True)\n",
    "\n",
    "val_mhdb_batch1 = torch.utils.data.DataLoader(concat_mhdb5, batch_size=batch_size, shuffle=True, num_workers=num_workers, drop_last=True)\n",
    "val_mhdb_batch2 = torch.utils.data.DataLoader(concat_mhdb6, batch_size=batch_size, shuffle=True, num_workers=num_workers, drop_last=True)\n",
    "val_mhdb_batch3 = torch.utils.data.DataLoader(concat_mhdb7, batch_size=batch_size, shuffle=True, num_workers=num_workers, drop_last=True)\n",
    "val_mhdb_batch4 = torch.utils.data.DataLoader(concat_mhdb8, batch_size=batch_size, shuffle=True, num_workers=num_workers, drop_last=True)\n",
    "\n",
    "test_mhdb_batch1 = torch.utils.data.DataLoader(concat_mhdb9, batch_size=batch_size, shuffle=False, num_workers=num_workers, drop_last=True)\n",
    "test_mhdb_batch2 = torch.utils.data.DataLoader(concat_mhdb10, batch_size=batch_size, shuffle=False, num_workers=num_workers, drop_last=True)\n",
    "test_mhdb_batch3 = torch.utils.data.DataLoader(concat_mhdb11, batch_size=batch_size, shuffle=False, num_workers=num_workers, drop_last=True)\n",
    "test_mhdb_batch4 = torch.utils.data.DataLoader(concat_mhdb12, batch_size=batch_size, shuffle=False, num_workers=num_workers, drop_last=True)"
   ]
  },
  {
   "cell_type": "markdown",
   "metadata": {},
   "source": [
    "## 2. Define a GoogLeNet"
   ]
  },
  {
   "cell_type": "code",
   "execution_count": 6,
   "metadata": {},
   "outputs": [],
   "source": [
    "from googlenet import *\n",
    "\n",
    "net = GoogLeNet(in_channel=3, num_classes=num_classes, aux_block=True).cuda()\n",
    "\n",
    "#for i in net.named_children():\n",
    "#    print(i)"
   ]
  },
  {
   "cell_type": "markdown",
   "metadata": {},
   "source": [
    "## 3. Define a Loss function and optimizer"
   ]
  },
  {
   "cell_type": "code",
   "execution_count": 7,
   "metadata": {},
   "outputs": [],
   "source": [
    "from torch.optim.lr_scheduler import StepLR\n",
    "\n",
    "#criterion = torch.nn.BCEWithLogitsLoss()\n",
    "criterion = torch.nn.CrossEntropyLoss()\n",
    "#criterion = torch.nn.BCELoss()\n",
    "#optimizer = torch.optim.SGD(net.parameters(), lr=learning_rate, momentum=SGD_momentum)\n",
    "optimizer = torch.optim.Adam(net.parameters(), lr=learning_rate)\n",
    "scheduler = StepLR(optimizer, step_size=8, gamma=0.96)"
   ]
  },
  {
   "cell_type": "markdown",
   "metadata": {},
   "source": [
    "## 4. Train the network"
   ]
  },
  {
   "cell_type": "code",
   "execution_count": 8,
   "metadata": {},
   "outputs": [
    {
     "name": "stdout",
     "output_type": "stream",
     "text": [
      "[0] loss: 32.236\n",
      "[1] loss: 31.046\n",
      "[2] loss: 31.289\n",
      "[3] loss: 27.836\n",
      "[4] loss: 26.775\n",
      "[5] loss: 28.252\n",
      "[6] loss: 28.967\n",
      "[7] loss: 26.351\n",
      "[8] loss: 25.803\n",
      "[9] loss: 25.177\n",
      "\n",
      "Finished Training\n"
     ]
    }
   ],
   "source": [
    "times = 1\n",
    "aux_loss_weight = 0.3\n",
    "\n",
    "for epoch in range(epochs):  # loop over the dataset multiple times\n",
    "    net.train()\n",
    "    running_loss = 0.0\n",
    "    for i, data in enumerate(mhdb_batch1):\n",
    "        # get the inputs\n",
    "        inputs, labels = data\n",
    "        inputs = inputs.cuda()\n",
    "        labels = labels.cuda().long()\n",
    "        \n",
    "        # zero the parameter gradients\n",
    "        optimizer.zero_grad()\n",
    "\n",
    "        # forward + backward + optimize\n",
    "        aux_1, aux_2, outputs = net(inputs) #tuple: (aux1, aux2, input)\n",
    "        aux_1 = aux_1.reshape(batch_size, num_classes)\n",
    "        aux_2 = aux_2.reshape(batch_size, num_classes)\n",
    "        outputs = outputs.reshape(batch_size, num_classes)\n",
    "        \n",
    "        loss1 = criterion(aux_1, labels)\n",
    "        loss2 = criterion(aux_2, labels)\n",
    "        loss3 = criterion(outputs, labels)\n",
    "        \n",
    "        loss = aux_loss_weight*loss1 + aux_loss_weight*loss2 + loss3\n",
    "        loss.backward()\n",
    "        ##scheduler.step()\n",
    "        optimizer.step()\n",
    "        \n",
    "        running_loss += loss.item()\n",
    "        \n",
    "    if epoch % times == 0:\n",
    "        print('[%d] loss: %.3f' %(epoch, running_loss / times))\n",
    "        running_loss = 0.0\n",
    "        #torch.save(model,'./data/cifar_model.pkl')\n",
    "\n",
    "print('\\nFinished Training')"
   ]
  },
  {
   "cell_type": "markdown",
   "metadata": {},
   "source": [
    "## 5. Test the network on the test data"
   ]
  },
  {
   "cell_type": "code",
   "execution_count": 9,
   "metadata": {},
   "outputs": [
    {
     "name": "stdout",
     "output_type": "stream",
     "text": [
      "Accuracy of the network on the 1240 test images: 63 %\n"
     ]
    }
   ],
   "source": [
    "correct = 0\n",
    "total = 0\n",
    "\n",
    "with torch.no_grad():\n",
    "    net.eval()\n",
    "    for data in test_mhdb_batch1:\n",
    "        images, labels = data\n",
    "        images = images.cuda()\n",
    "        labels = labels.cuda().long()\n",
    "        \n",
    "        outputs = net(images).reshape(batch_size, num_classes)\n",
    "                \n",
    "        _, predicted = torch.max(outputs, dim=1)\n",
    "        \n",
    "        total += labels.size(0)\n",
    "        correct += predicted.eq(labels).sum().item()\n",
    "\n",
    "print('Accuracy of the network on the %d test images: %d %%' %(1240, 100 * correct / total)) #more than 50 percent"
   ]
  },
  {
   "cell_type": "code",
   "execution_count": 10,
   "metadata": {},
   "outputs": [
    {
     "name": "stdout",
     "output_type": "stream",
     "text": [
      "Accuracy_1 of the network on the 1240 test images: 87 %\n",
      "Accuracy_2 of the network on the 1240 test images: 87 %\n",
      "Accuracy_3 of the network on the 1240 test images: 63 %\n"
     ]
    }
   ],
   "source": [
    "correct1 = 0\n",
    "correct2 = 0\n",
    "correct3 = 0\n",
    "total = 0\n",
    "\n",
    "with torch.no_grad():\n",
    "    net.train()\n",
    "    for data in test_mhdb_batch1:\n",
    "        images, labels = data\n",
    "        images = images.cuda()\n",
    "        labels = labels.cuda().long()\n",
    "        \n",
    "        aux_1, aux_2, outputs = net(images) #tuple: (aux1, aux2, input)\n",
    "        aux_1 = aux_1.reshape(batch_size, num_classes)\n",
    "        aux_2 = aux_2.reshape(batch_size, num_classes)\n",
    "        outputs = outputs.reshape(batch_size, num_classes)\n",
    "        \n",
    "        _, predicted1 = torch.max(aux_1, dim=1)\n",
    "        _, predicted2 = torch.max(aux_2, dim=1)\n",
    "        _, predicted3 = torch.max(outputs, dim=1)\n",
    "        \n",
    "        total += labels.size(0)\n",
    "        correct1 += (predicted1 == labels).sum().item()\n",
    "        correct2 += (predicted2 == labels).sum().item()\n",
    "        correct3 += (predicted3 == labels).sum().item()\n",
    "\n",
    "print('Accuracy_1 of the network on the %d test images: %d %%' %(1240, 100 * correct1 / total))\n",
    "print('Accuracy_2 of the network on the %d test images: %d %%' %(1240, 100 * correct2 / total))\n",
    "print('Accuracy_3 of the network on the %d test images: %d %%' %(1240, 100 * correct3 / total))"
   ]
  },
  {
   "cell_type": "code",
   "execution_count": null,
   "metadata": {},
   "outputs": [],
   "source": []
  }
 ],
 "metadata": {
  "kernelspec": {
   "display_name": "Python 3",
   "language": "python",
   "name": "python3"
  },
  "language_info": {
   "codemirror_mode": {
    "name": "ipython",
    "version": 3
   },
   "file_extension": ".py",
   "mimetype": "text/x-python",
   "name": "python",
   "nbconvert_exporter": "python",
   "pygments_lexer": "ipython3",
   "version": "3.6.8"
  }
 },
 "nbformat": 4,
 "nbformat_minor": 2
}
