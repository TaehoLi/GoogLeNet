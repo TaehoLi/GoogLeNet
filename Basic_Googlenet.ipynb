{
 "cells": [
  {
   "cell_type": "code",
   "execution_count": 1,
   "metadata": {},
   "outputs": [],
   "source": [
    "# Params\n",
    "input_size = (100,100)\n",
    "batch_size = 800\n",
    "num_workers = 8\n",
    "num_classes = 10\n",
    "learning_rate = 1e-03\n",
    "SGD_momentum = 0.9\n",
    "epochs = 10"
   ]
  },
  {
   "cell_type": "markdown",
   "metadata": {},
   "source": [
    "# Training an image classifier"
   ]
  },
  {
   "cell_type": "code",
   "execution_count": 2,
   "metadata": {},
   "outputs": [
    {
     "name": "stdout",
     "output_type": "stream",
     "text": [
      "torch-version: 1.1.0\n",
      "Available GPU: 0\n"
     ]
    }
   ],
   "source": [
    "import torch\n",
    "\n",
    "print(\"torch-version:\", torch.__version__)\n",
    "print(\"Available GPU:\", torch.cuda.current_device())"
   ]
  },
  {
   "cell_type": "markdown",
   "metadata": {},
   "source": [
    "## 1. Loading and normalizing CIFAR10"
   ]
  },
  {
   "cell_type": "code",
   "execution_count": 3,
   "metadata": {},
   "outputs": [
    {
     "name": "stdout",
     "output_type": "stream",
     "text": [
      "Files already downloaded and verified\n",
      "Files already downloaded and verified\n",
      "\n",
      "torch.Size([3, 100, 100]) 50000\n",
      "torch.Size([3, 100, 100]) 10000\n"
     ]
    }
   ],
   "source": [
    "import torchvision\n",
    "import torchvision.transforms as transforms\n",
    "\n",
    "transform = transforms.Compose(\n",
    "    [transforms.Resize(input_size), # Must be ahead of transforms.ToTensor()\n",
    "     transforms.ToTensor(),\n",
    "     transforms.Normalize((0.5, 0.5, 0.5), (0.5, 0.5, 0.5))])\n",
    "\n",
    "trainset = torchvision.datasets.CIFAR10(root='./data', train=True, download=True, transform=transform)\n",
    "trainloader = torch.utils.data.DataLoader(trainset, batch_size=batch_size, shuffle=True, num_workers=num_workers, drop_last=True)\n",
    "\n",
    "testset = torchvision.datasets.CIFAR10(root='./data', train=False, download=True, transform=transform)\n",
    "testloader = torch.utils.data.DataLoader(testset, batch_size=batch_size, shuffle=False, num_workers=num_workers, drop_last=True)\n",
    "\n",
    "classes = ('plane', 'car', 'bird', 'cat', 'deer', 'dog', 'frog', 'horse', 'ship', 'truck')\n",
    "\n",
    "print()\n",
    "print(trainset.__getitem__(0)[0].size(), trainset.__len__())\n",
    "print(testset.__getitem__(0)[0].size(), testset.__len__())"
   ]
  },
  {
   "cell_type": "markdown",
   "metadata": {},
   "source": [
    "## 2. Define a GoogLeNet"
   ]
  },
  {
   "cell_type": "code",
   "execution_count": 4,
   "metadata": {},
   "outputs": [],
   "source": [
    "from googlenet import *\n",
    "\n",
    "net = GoogLeNet(in_channel=3, num_classes=num_classes, aux_block=True).cuda()\n",
    "\n",
    "#for i in net.named_children():\n",
    "#    print(i)"
   ]
  },
  {
   "cell_type": "markdown",
   "metadata": {},
   "source": [
    "## 3. Define a Loss function and optimizer"
   ]
  },
  {
   "cell_type": "code",
   "execution_count": 5,
   "metadata": {},
   "outputs": [],
   "source": [
    "criterion = torch.nn.CrossEntropyLoss()\n",
    "#optimizer = torch.optim.SGD(net.parameters(), lr=learning_rate, momentum=SGD_momentum)\n",
    "optimizer = torch.optim.Adam(net.parameters(), lr=learning_rate)"
   ]
  },
  {
   "cell_type": "markdown",
   "metadata": {},
   "source": [
    "## 4. Train the network"
   ]
  },
  {
   "cell_type": "code",
   "execution_count": 6,
   "metadata": {},
   "outputs": [],
   "source": [
    "def validation(dataset, model, criterion):\n",
    "    \n",
    "    with torch.no_grad():\n",
    "        model.eval()\n",
    "        running_loss = 0.0\n",
    "        for data in dataset:\n",
    "            images, labels = data\n",
    "            images = images.cuda()\n",
    "            labels = labels.cuda()\n",
    "\n",
    "            outputs = model(images).reshape(batch_size, num_classes)\n",
    "            loss = criterion(outputs, labels)\n",
    "\n",
    "            running_loss += loss.item()\n",
    "            \n",
    "    return running_loss"
   ]
  },
  {
   "cell_type": "code",
   "execution_count": 7,
   "metadata": {},
   "outputs": [
    {
     "name": "stdout",
     "output_type": "stream",
     "text": [
      "Epoch: 0\n",
      "Train Loss: 203.14059448242188\n",
      "Val Loss: 27.662102937698364 \n",
      "\n",
      "Epoch: 1\n",
      "Train Loss: 171.8042893409729\n",
      "Val Loss: 20.03443694114685 \n",
      "\n",
      "Epoch: 2\n",
      "Train Loss: 131.88796174526215\n",
      "Val Loss: 16.621737718582153 \n",
      "\n",
      "Epoch: 3\n",
      "Train Loss: 106.05126094818115\n",
      "Val Loss: 13.725027799606323 \n",
      "\n",
      "Epoch: 4\n",
      "Train Loss: 90.63426315784454\n",
      "Val Loss: 11.938800573348999 \n",
      "\n",
      "Epoch: 5\n",
      "Train Loss: 79.16781234741211\n",
      "Val Loss: 10.204230904579163 \n",
      "\n",
      "Epoch: 6\n",
      "Train Loss: 71.38839828968048\n",
      "Val Loss: 10.12009072303772 \n",
      "\n",
      "Epoch: 7\n",
      "Train Loss: 59.88508224487305\n",
      "Val Loss: 9.076053619384766 \n",
      "\n",
      "Epoch: 8\n",
      "Train Loss: 54.00758272409439\n",
      "Val Loss: 8.339478254318237 \n",
      "\n",
      "Epoch: 9\n",
      "Train Loss: 46.955850481987\n",
      "Val Loss: 8.372489273548126 \n",
      "\n",
      "\n",
      "Finished Training\n"
     ]
    }
   ],
   "source": [
    "import numpy as np\n",
    "\n",
    "times = 1\n",
    "aux_loss_weight = 0.3\n",
    "all_train_loss = []\n",
    "all_val_loss = []\n",
    "row = np.arange(epochs)\n",
    "\n",
    "for epoch in range(epochs):  # loop over the dataset multiple times\n",
    "    net.train()\n",
    "    running_loss = 0.0\n",
    "    for i, data in enumerate(trainloader):\n",
    "        # get the inputs\n",
    "        inputs, labels = data\n",
    "        inputs = inputs.cuda()\n",
    "        labels = labels.cuda()\n",
    "        \n",
    "        # zero the parameter gradients\n",
    "        optimizer.zero_grad()\n",
    "\n",
    "        # forward + backward + optimize\n",
    "        aux_1, aux_2, outputs = net(inputs) #tuple: (aux1, aux2, input)\n",
    "        aux_1 = aux_1.reshape(batch_size, num_classes)\n",
    "        aux_2 = aux_2.reshape(batch_size, num_classes)\n",
    "        outputs = outputs.reshape(batch_size, num_classes)\n",
    "        \n",
    "        loss1 = criterion(aux_1, labels)\n",
    "        loss2 = criterion(aux_2, labels)\n",
    "        loss3 = criterion(outputs, labels)\n",
    "        \n",
    "        loss = aux_loss_weight*loss1 + aux_loss_weight*loss2 + loss3\n",
    "        loss.backward()\n",
    "        optimizer.step()\n",
    "        \n",
    "        running_loss += loss.item()\n",
    "        \n",
    "    if epoch % times == 0:\n",
    "        print(\"Epoch:\", epoch)\n",
    "        print(\"Train Loss:\", running_loss / times)\n",
    "        val_loss = validation(testloader, net, criterion)\n",
    "        print(\"Val Loss:\", val_loss, \"\\n\")\n",
    "        \n",
    "        all_train_loss.append(running_loss)\n",
    "        all_val_loss.append(val_loss)\n",
    "        running_loss = 0.0\n",
    "\n",
    "print('\\nFinished Training')"
   ]
  },
  {
   "cell_type": "markdown",
   "metadata": {},
   "source": [
    "## 5. Visualize the result"
   ]
  },
  {
   "cell_type": "code",
   "execution_count": 8,
   "metadata": {},
   "outputs": [
    {
     "data": {
      "image/png": "[encoded data removed]",
      "text/plain": [
       "<Figure size 691.2x518.4 with 2 Axes>"
      ]
     },
     "metadata": {
      "needs_background": "light"
     },
     "output_type": "display_data"
    }
   ],
   "source": [
    "import matplotlib.pyplot as plt\n",
    "%matplotlib inline\n",
    "\n",
    "fig, ax0 = plt.subplots(figsize=(9.6,7.2))\n",
    "ax1 = ax0.twinx()\n",
    "ax0.set_title(\"Train Loss & Val Loss\")\n",
    "ax0.plot(all_train_loss, 'rs--', label=\"Train Loss\")\n",
    "ax0.set_ylabel(\"Train Loss\")\n",
    "ax0.grid(False)\n",
    "ax1.plot(all_val_loss, 'go--', label=\"Val Loss\")\n",
    "ax1.set_ylabel(\"Val Loss\")\n",
    "ax1.grid(False)\n",
    "ax0.set_xlabel(\"Epoch\")\n",
    "plt.legend(loc=1)\n",
    "plt.show()"
   ]
  },
  {
   "cell_type": "markdown",
   "metadata": {},
   "source": [
    "## 6. Test the network on the test data"
   ]
  },
  {
   "cell_type": "code",
   "execution_count": 9,
   "metadata": {},
   "outputs": [
    {
     "name": "stdout",
     "output_type": "stream",
     "text": [
      "Accuracy of the network on the 10000 test images: 77 %\n"
     ]
    }
   ],
   "source": [
    "correct = 0\n",
    "total = 0\n",
    "\n",
    "with torch.no_grad():\n",
    "    net.eval()\n",
    "    for data in testloader:\n",
    "        images, labels = data\n",
    "        images = images.cuda()\n",
    "        labels = labels.cuda()\n",
    "        \n",
    "        outputs = net(images).reshape(batch_size, num_classes)\n",
    "        \n",
    "        _, predicted = torch.max(outputs, dim=1)\n",
    "        \n",
    "        total += labels.size(0)\n",
    "        correct += predicted.eq(labels).sum().item()\n",
    "\n",
    "print('Accuracy of the network on the 10000 test images: %d %%' %(100 * correct / total)) # more than 10 percent"
   ]
  },
  {
   "cell_type": "code",
   "execution_count": null,
   "metadata": {},
   "outputs": [],
   "source": []
  }
 ],
 "metadata": {
  "kernelspec": {
   "display_name": "Python 3",
   "language": "python",
   "name": "python3"
  },
  "language_info": {
   "codemirror_mode": {
    "name": "ipython",
    "version": 3
   },
   "file_extension": ".py",
   "mimetype": "text/x-python",
   "name": "python",
   "nbconvert_exporter": "python",
   "pygments_lexer": "ipython3",
   "version": "3.6.8"
  }
 },
 "nbformat": 4,
 "nbformat_minor": 2
}
