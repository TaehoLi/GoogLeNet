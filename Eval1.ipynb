{
 "cells": [
  {
   "cell_type": "code",
   "execution_count": 1,
   "metadata": {},
   "outputs": [
    {
     "name": "stdout",
     "output_type": "stream",
     "text": [
      "torch-version: 1.1.0\n",
      "Available GPU: 0\n"
     ]
    }
   ],
   "source": [
    "import torch\n",
    "import torch.nn as nn\n",
    "import torchvision\n",
    "\n",
    "import numpy as np\n",
    "from PIL import Image\n",
    "\n",
    "import cv2\n",
    "import os\n",
    "import numpy as np\n",
    "\n",
    "from dataset_MH import *\n",
    "from googlenet import *\n",
    "\n",
    "print(\"torch-version:\", torch.__version__)\n",
    "print(\"Available GPU:\", torch.cuda.current_device())"
   ]
  },
  {
   "cell_type": "code",
   "execution_count": 2,
   "metadata": {},
   "outputs": [],
   "source": [
    "# Params\n",
    "input_size = (1200, 800) #1200x800\n",
    "batch_size = 12 #12\n",
    "num_workers = 12 #12\n",
    "\n",
    "# 기존 데이터 경로\n",
    "NORMAL_DIR = '../snapshots_pureok'\n",
    "FAULT_DIR = '../snapshots'\n",
    "\n",
    "# 추가 데이터 경로\n",
    "ADD_NORMAL_DIR = '../snapshots_punch181'\n",
    "ADD_FAULT_DIR = '../snapshots_punch181_NG'\n",
    "\n",
    "# 카메라 번호 (1~4까지 있음, 카메라별로 각각 다 따로 학습해야됩니다.) CAM1 / CAM2 / CAM3 / CAM4\n",
    "cam1 = 'CAM1'\n",
    "cam2 = 'CAM2'\n",
    "cam3 = 'CAM3'\n",
    "cam4 = 'CAM4'"
   ]
  },
  {
   "cell_type": "code",
   "execution_count": 3,
   "metadata": {},
   "outputs": [],
   "source": [
    "# 기존 데이터 로드\n",
    "normal_list1 = filename_list(NORMAL_DIR, cam=cam1)\n",
    "fault_list1 = filename_list(FAULT_DIR, cam=cam1)\n",
    "normal_list2 = filename_list(NORMAL_DIR, cam=cam2)\n",
    "fault_list2 = filename_list(FAULT_DIR, cam=cam2)\n",
    "normal_list3 = filename_list(NORMAL_DIR, cam=cam3)\n",
    "fault_list3 = filename_list(FAULT_DIR, cam=cam3)\n",
    "normal_list4 = filename_list(NORMAL_DIR, cam=cam4)\n",
    "fault_list4 = filename_list(FAULT_DIR, cam=cam4)\n",
    "\n",
    "mhdb9 = MyungHwa_ansan_db(normal_list1, fault_list1, dataType='test', input_size=input_size, augmentation=True)\n",
    "mhdb10 = MyungHwa_ansan_db(normal_list2, fault_list2, dataType='test', input_size=input_size, augmentation=True)\n",
    "mhdb11 = MyungHwa_ansan_db(normal_list3, fault_list3, dataType='test', input_size=input_size, augmentation=True)\n",
    "mhdb12 = MyungHwa_ansan_db(normal_list4, fault_list4, dataType='test', input_size=input_size, augmentation=True)\n",
    "   \n",
    "# 추가 데이터 로드\n",
    "add_normal_list1 = filename_list(ADD_NORMAL_DIR, cam=cam1)\n",
    "add_fault_list1 = filename_list(ADD_FAULT_DIR, cam=cam1)\n",
    "add_normal_list2 = filename_list(ADD_NORMAL_DIR, cam=cam2)\n",
    "add_fault_list2 = filename_list(ADD_FAULT_DIR, cam=cam2)\n",
    "add_normal_list3 = filename_list(ADD_NORMAL_DIR, cam=cam3)\n",
    "add_fault_list3 = filename_list(ADD_FAULT_DIR, cam=cam3)\n",
    "add_normal_list4 = filename_list(ADD_NORMAL_DIR, cam=cam4)\n",
    "add_fault_list4 = filename_list(ADD_FAULT_DIR, cam=cam4)\n",
    "\n",
    "add_mhdb9 = MyungHwa_ansan_db(add_normal_list1, add_fault_list1, dataType='test', input_size=input_size, augmentation=True)\n",
    "add_mhdb10 = MyungHwa_ansan_db(add_normal_list2, add_fault_list2, dataType='test', input_size=input_size, augmentation=True)\n",
    "add_mhdb11 = MyungHwa_ansan_db(add_normal_list3, add_fault_list3, dataType='test', input_size=input_size, augmentation=True)\n",
    "add_mhdb12 = MyungHwa_ansan_db(add_normal_list4, add_fault_list4, dataType='test', input_size=input_size, augmentation=True)\n",
    "    \n",
    "# 데이터셋 합치기\n",
    "concat_mhdb9 = torch.utils.data.ConcatDataset([mhdb9, add_mhdb9])\n",
    "concat_mhdb10 = torch.utils.data.ConcatDataset([mhdb10, add_mhdb10])\n",
    "concat_mhdb11 = torch.utils.data.ConcatDataset([mhdb11, add_mhdb11])\n",
    "concat_mhdb12 = torch.utils.data.ConcatDataset([mhdb12, add_mhdb12])\n",
    "\n",
    "test_mhdb_batch1 = torch.utils.data.DataLoader(concat_mhdb9, batch_size=batch_size, shuffle=True, num_workers=num_workers)\n",
    "test_mhdb_batch2 = torch.utils.data.DataLoader(concat_mhdb10, batch_size=batch_size, shuffle=True, num_workers=num_workers)\n",
    "test_mhdb_batch3 = torch.utils.data.DataLoader(concat_mhdb11, batch_size=batch_size, shuffle=True, num_workers=num_workers)\n",
    "test_mhdb_batch4 = torch.utils.data.DataLoader(concat_mhdb12, batch_size=batch_size, shuffle=True, num_workers=num_workers)"
   ]
  },
  {
   "cell_type": "code",
   "execution_count": 4,
   "metadata": {},
   "outputs": [
    {
     "data": {
      "text/plain": [
       "IncompatibleKeys(missing_keys=[], unexpected_keys=[])"
      ]
     },
     "execution_count": 4,
     "metadata": {},
     "output_type": "execute_result"
    }
   ],
   "source": [
    "model = GoogLeNet(in_channel=3).cpu()\n",
    "model.load_state_dict(torch.load('./saved_models/GoogLeNet-MH-Epoch-180-Loss-24.89314.pth'))"
   ]
  },
  {
   "cell_type": "code",
   "execution_count": 5,
   "metadata": {},
   "outputs": [
    {
     "name": "stdout",
     "output_type": "stream",
     "text": [
      "Accuracy of the model on test images: 7%\n"
     ]
    }
   ],
   "source": [
    "#eval accuracy\n",
    "correct = 0\n",
    "total = 0\n",
    "\n",
    "with torch.no_grad():\n",
    "    model.eval()\n",
    "    for img, label in test_mhdb_batch1:\n",
    "        img = img.cpu()\n",
    "        label = label.cpu()\n",
    "        outputs = model(img)\n",
    "        #print(outputs)\n",
    "        \n",
    "        value, predicted = torch.max(outputs, dim=0)\n",
    "        #print(\"value:\", value)\n",
    "        #print(predicted)\n",
    "        \n",
    "        total += label.size(0)\n",
    "        #print(total)\n",
    "        correct += (predicted.float() == label.float()).sum().item()\n",
    "        #print(correct)\n",
    "\n",
    "print('Accuracy of the model on test images: %d%%' % (100 * correct / total))"
   ]
  },
  {
   "cell_type": "code",
   "execution_count": null,
   "metadata": {},
   "outputs": [],
   "source": []
  }
 ],
 "metadata": {
  "kernelspec": {
   "display_name": "Python 3",
   "language": "python",
   "name": "python3"
  },
  "language_info": {
   "codemirror_mode": {
    "name": "ipython",
    "version": 3
   },
   "file_extension": ".py",
   "mimetype": "text/x-python",
   "name": "python",
   "nbconvert_exporter": "python",
   "pygments_lexer": "ipython3",
   "version": "3.6.8"
  }
 },
 "nbformat": 4,
 "nbformat_minor": 2
}
